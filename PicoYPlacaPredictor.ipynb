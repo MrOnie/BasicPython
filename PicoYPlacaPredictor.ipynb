{
  "nbformat": 4,
  "nbformat_minor": 0,
  "metadata": {
    "colab": {
      "name": "PicoYPlacaPredictor.ipynb",
      "provenance": [],
      "collapsed_sections": [],
      "authorship_tag": "ABX9TyPAVljaYjXPBIgC/A2kDLMM",
      "include_colab_link": true
    },
    "kernelspec": {
      "name": "python3",
      "display_name": "Python 3"
    }
  },
  "cells": [
    {
      "cell_type": "markdown",
      "metadata": {
        "id": "view-in-github",
        "colab_type": "text"
      },
      "source": [
        "<a href=\"https://colab.research.google.com/github/MrOnie/BasicPython/blob/master/PicoYPlacaPredictor.ipynb\" target=\"_parent\"><img src=\"https://colab.research.google.com/assets/colab-badge.svg\" alt=\"Open In Colab\"/></a>"
      ]
    },
    {
      "cell_type": "markdown",
      "metadata": {
        "id": "4Ul_2-6Nc4fC",
        "colab_type": "text"
      },
      "source": [
        "# Pico y Placa predictor\n",
        "\n",
        "by: Ronie Martínez\n",
        "\n",
        "https://colab.research.google.com/drive/10rYT8tneRt0QKbmqHik-yB-Itsn0lHXF"
      ]
    },
    {
      "cell_type": "markdown",
      "metadata": {
        "id": "Dcjf8-CqCKFZ",
        "colab_type": "text"
      },
      "source": [
        "Using the language that you feel most proficient in, we’d like you to write a \"Pico y Placa\" predictor. The inputs should be a license plate number (the full number, not the last digit), a date (as a String), and a time, and the program will return whether or not that car can be on the road. You may use any input and output method you prefer. Although it is not required, we’d love to see the following in your code for extra points:\n",
        "\n",
        "- Good code structure, avoiding repetition and favoring a consistent organization. You should stick to your chosen language’s semantics, and try to be as consistent as possible.\n",
        "- Correct usage of version control tools, with a good commit history and incremental software delivery practices.\n",
        "- Automated testing with any framework or tool of your choice.\n",
        "- We value candidates that love clean, well-structured code, and that can solve problems in a creative way.\n",
        "\n",
        "Note: To develop this application you need to consider the past rules of the Pico&Placa. (Hours: 7:00am - 9:30am / 16:00pm - 19:30). Additional research would be needed to complete the exercise. ​\n",
        "Happy coding!"
      ]
    },
    {
      "cell_type": "markdown",
      "metadata": {
        "id": "nidzI0LyhatJ",
        "colab_type": "text"
      },
      "source": [
        "## Functions"
      ]
    },
    {
      "cell_type": "code",
      "metadata": {
        "id": "8wZooRkmDbM-",
        "colab_type": "code",
        "colab": {}
      },
      "source": [
        "from datetime import date, time # https://docs.python.org/3/library/datetime.html\n",
        "\n",
        "def pico_y_placa_schedule(plate_number_PP):\n",
        "  \"\"\" Function for mapping \"Pico y Placa\"'s day according to the last digit of \n",
        "        the plate number\n",
        "      input:\n",
        "        plate_number_PP: ABC-123 / ABC-1234 (with or without dash)\n",
        "      output:\n",
        "        day: day of the week that has \"Pico y Placa\" (Monday to Friday)\n",
        "  \"\"\"\n",
        "  week = ['Monday', 'Tuesday', 'Wednesday', 'Thursday', 'Friday']\n",
        "  last_digit = int(plate_number_PP[-1])\n",
        "  if last_digit==1 or last_digit==2:  # it could be changed...\n",
        "    day = week[0] # Monday\n",
        "  elif last_digit==3 or last_digit==4:\n",
        "    day = week[1] # Tuesday\n",
        "  elif last_digit==5 or last_digit==6:\n",
        "    day = week[2] # Wednesday\n",
        "  elif last_digit==7 or last_digit==8:\n",
        "    day = week[3] # Thursday\n",
        "  elif last_digit==9 or last_digit==0:\n",
        "    day = week[4]  # Friday\n",
        "  return day\n",
        "\n",
        "def day_from_date(date_PP):\n",
        "  \"\"\" Function for get the day of the week from the date\n",
        "      input:\n",
        "        date_PP: DD/MM/YYYY format\n",
        "      output:\n",
        "        day: day of the week for the given date (Monday to Sunday)\n",
        "  \"\"\"\n",
        "  day_DT, month_DT, year_DT = (int(x) for x in date_PP.split('/')) \n",
        "  day = date(year_DT, month_DT, day_DT)\n",
        "  day = day.strftime('%A') # Directive %A: Full weekday name\n",
        "  return day\n",
        "\n",
        "def pico_y_placa_hours(time_PP):\n",
        "  \"\"\" Function to define if a time is in range of predefined work-hours\n",
        "      input: \n",
        "        time_PP: HH:MM 24-format\n",
        "      output:\n",
        "        boolean\n",
        "  \"\"\"\n",
        "  # Hours: 7:00am - 9:30am / 16:00pm - 19:30pm\n",
        "  time1_start = time(7, 0, 0) # 7:00am\n",
        "  time1_end = time(9, 30, 0) # 9:30am\n",
        "  time2_start = time(16, 0, 0) # 16:00pm\n",
        "  time2_end = time(19, 30, 0) # 19:30pm\n",
        "\n",
        "  hour, minute = (int(x) for x in time_PP.split(':'))\n",
        "  time_ = time(hour, minute, 0)\n",
        "\n",
        "  if (time1_start <= time_ <= time1_end) or (time2_start <= time_ <= time2_end):\n",
        "    return True\n",
        "  else:\n",
        "    return False\n",
        "\n",
        "def pico_y_placa_predictor(plate_number_PP, date_PP, time_PP):\n",
        "  \"\"\" Function to predict/validate whether or not that a car can be on the road\n",
        "        a given day in a given hour\n",
        "      input: \n",
        "        plate_number_PP: ABC-123 / ABC-1234 (with or without dash)\n",
        "        date_PP: DD/MM/YYYY format\n",
        "        time_PP: HH:MM 24-format\n",
        "      output:\n",
        "        String\n",
        "  \"\"\"\n",
        "  if pico_y_placa_schedule(plate_number_PP) == day_from_date(date_PP) and pico_y_placa_hours(time_PP):\n",
        "    validation = \"CANNOT\"\n",
        "  else:\n",
        "    validation = \"CAN\"\n",
        "  print('The car with plate number %s %s be on the road the day %s (%s) at %s, according to \"Pico y Placa\" schedule' \n",
        "        %(plate_number_PP, validation, date_PP, day_from_date(date_PP), time_PP))"
      ],
      "execution_count": 0,
      "outputs": []
    },
    {
      "cell_type": "markdown",
      "metadata": {
        "id": "lTxNa5FbhUVf",
        "colab_type": "text"
      },
      "source": [
        "## Testing"
      ]
    },
    {
      "cell_type": "code",
      "metadata": {
        "id": "opQtTCpnbTf0",
        "colab_type": "code",
        "outputId": "b2411fbc-2be0-478d-cd0f-b5df148ea5ff",
        "colab": {
          "base_uri": "https://localhost:8080/",
          "height": 68
        }
      },
      "source": [
        "pico_y_placa_predictor('PLA-6754', \"14/01/2020\", \"06:59\")\n",
        "pico_y_placa_predictor('PLA-6754', \"14/01/2020\", \"07:00\")\n",
        "pico_y_placa_predictor('PLA-6754', \"15/01/2020\", \"07:00\")"
      ],
      "execution_count": 0,
      "outputs": [
        {
          "output_type": "stream",
          "text": [
            "The car with plate number PLA-6754 CAN be on the road the day 14/01/2020 (Tuesday) at 06:59, according to \"Pico y Placa\" schedule\n",
            "The car with plate number PLA-6754 CANNOT be on the road the day 14/01/2020 (Tuesday) at 07:00, according to \"Pico y Placa\" schedule\n",
            "The car with plate number PLA-6754 CAN be on the road the day 15/01/2020 (Wednesday) at 07:00, according to \"Pico y Placa\" schedule\n"
          ],
          "name": "stdout"
        }
      ]
    },
    {
      "cell_type": "markdown",
      "metadata": {
        "id": "CrIFk6qnhd0r",
        "colab_type": "text"
      },
      "source": [
        "## Input data"
      ]
    },
    {
      "cell_type": "code",
      "metadata": {
        "id": "awD7ew8dCIit",
        "colab_type": "code",
        "outputId": "ba5d1021-9885-41fd-bf7e-33d533ea7567",
        "colab": {
          "base_uri": "https://localhost:8080/",
          "height": 51
        }
      },
      "source": [
        "print('Enter the plate number (ABC-123 / ABC-1234 with or without dash):')\n",
        "plate_number_PP = input()"
      ],
      "execution_count": 0,
      "outputs": [
        {
          "output_type": "stream",
          "text": [
            "Enter the plate number (ABC-123 / ABC-1234 with or without dash):\n",
            "PCB-7468\n"
          ],
          "name": "stdout"
        }
      ]
    },
    {
      "cell_type": "code",
      "metadata": {
        "id": "emYBLdGsY8hq",
        "colab_type": "code",
        "outputId": "5becdb7f-bc34-4653-d021-c80fa433403a",
        "colab": {
          "base_uri": "https://localhost:8080/",
          "height": 51
        }
      },
      "source": [
        "print('Enter the date (DD/MM/YYYY):')\n",
        "date_PP = input()"
      ],
      "execution_count": 0,
      "outputs": [
        {
          "output_type": "stream",
          "text": [
            "Enter the date (DD/MM/YYYY):\n",
            "16/01/2020\n"
          ],
          "name": "stdout"
        }
      ]
    },
    {
      "cell_type": "code",
      "metadata": {
        "id": "Iq98fwkzY-ri",
        "colab_type": "code",
        "outputId": "f06ce294-f83c-47fa-b627-6693e3e65165",
        "colab": {
          "base_uri": "https://localhost:8080/",
          "height": 51
        }
      },
      "source": [
        "print('Enter the time (HH:MM 24-format):')\n",
        "time_PP = input()"
      ],
      "execution_count": 0,
      "outputs": [
        {
          "output_type": "stream",
          "text": [
            "Enter the time (HH:MM 24-format):\n",
            "17:51\n"
          ],
          "name": "stdout"
        }
      ]
    },
    {
      "cell_type": "markdown",
      "metadata": {
        "id": "ki3tg_77hg7N",
        "colab_type": "text"
      },
      "source": [
        "### Prediction"
      ]
    },
    {
      "cell_type": "code",
      "metadata": {
        "id": "laAix9L8ZlRn",
        "colab_type": "code",
        "outputId": "b7e17bca-796c-4349-b521-7e6dba1a0c92",
        "colab": {
          "base_uri": "https://localhost:8080/",
          "height": 34
        }
      },
      "source": [
        "pico_y_placa_predictor(plate_number_PP, date_PP, time_PP)"
      ],
      "execution_count": 0,
      "outputs": [
        {
          "output_type": "stream",
          "text": [
            "The car with plate number PCB-7468 CANNOT be on the road the day 16/01/2020 (Thursday) at 17:51, according to \"Pico y Placa\" schedule\n"
          ],
          "name": "stdout"
        }
      ]
    }
  ]
}